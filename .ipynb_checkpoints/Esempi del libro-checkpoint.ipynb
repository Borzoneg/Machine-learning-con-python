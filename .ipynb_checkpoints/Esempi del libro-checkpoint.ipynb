{
 "cells": [
  {
   "cell_type": "markdown",
   "metadata": {},
   "source": [
    "# Implementazione in python di un algoritmo di apprendimento perceptron\n",
    "La cella successiva mostra com'è possibile **implementare** un semplice algoritmo **percetron** in python,lo implmenteremo come oggetto in modo che possa essere poi istanziato in qualsiasi momento.<br>(*pag. 22,23*)\n"
   ]
  },
  {
   "cell_type": "code",
   "execution_count": 25,
   "metadata": {},
   "outputs": [],
   "source": [
    "import numpy as np\n",
    "\n",
    "class Perceptron(object):\n",
    "    \"\"\"Classe per implementare il perceptron in python\n",
    "\n",
    "    Parametri:\n",
    "        -eta: float\n",
    "            tasso di apprendimento (compreso tra 0.0 e 1.0)\n",
    "        -n_iter: int\n",
    "            i passi di aggiustamento dei pesi che vengono compiuti sul dataset\n",
    "\n",
    "    Attributi:\n",
    "        -w_: array monodimensionale\n",
    "            i pesi dopo essere stati aggiustati \n",
    "        -errors: list\n",
    "            numero di errori in quel passo\n",
    "    \"\"\"\n",
    "    def __init__(self, eta=0.01, n_iter=10):\n",
    "        self.eta = eta\n",
    "        self.n_iter = n_iter\n",
    "\n",
    "    def fit(self, X, y):\n",
    "        \"\"\"Inserimento dei dati di addestramento\n",
    "        Parametri:\n",
    "            -X: {simile a un array(ad esempio un dataset .csv)}, forma = [nCampioni, nCaratteristiche]\n",
    "                vettore dei dati di addestramento, per caratteristiche si intende i campi che vengono valutati\n",
    "                per ogni campione\n",
    "            -y: {simile a un array(ad esempio un dataset .csv)}, forma = [nCampioni]\n",
    "                array monodimensionale dove mettiamo i risultati\n",
    "        Return:\n",
    "            self: object\n",
    "                ritorna sè stesso ma addestrato    \n",
    "        \"\"\"\n",
    "        #N.B: GLI ELEMENTI CON '_' SONO PER CONVENZIONE QUELLI NON INIZIALIZZATI DAL COSTRUTTORE\n",
    "\n",
    "        self.w_ = np.zeros(1 + X.shape[1]) # costruiamo un array di dimensione [nCampioni + 1] pieno di zero per i pesi\n",
    "        self.errors_ = []                  # costruiamo la lista degli errori \n",
    "\n",
    "        for i in range(self.n_iter):       # ciclo per il numero di passi scelto nella creazione dell'oggetto\n",
    "            errors = 0\n",
    "            for xi, target in zip(X, y):         # ciclo a due var, si incrementano insieme, posso farlo perchè len(X)==len(y)     \n",
    "                update = self.eta * (target - self.predict(xi))  #implementazione della prima parte della formula del perceptron\n",
    "                self.w_[1:] += update * xi   # aggiornamento dei pesi contenuti nel vettore w_ dall'indice 1 in poi\n",
    "                self.w_[0] += update         # aggiornamento della soglia secondo la formula del perceptron (pag. 19)\n",
    "                errors += int(update != 0.0) # conta degli errori \n",
    "            self.errors_.append(errors)      # aggiungo all'indice i-esimo il numero di errori del passo i-esimo\n",
    "        return self\n",
    "    def net_input(self, X):\n",
    "        \"Calcolo dell'input, esegue in sostanza il prodotto vettoriale tra pesi e dati\"\n",
    "        return np.dot(X, self.w_[1:]) + self.w_[0] \n",
    "                    \n",
    "    def predict(self, X):\n",
    "        \"Ritorna il vettore delle etichette di classe predette\"\n",
    "        return np.where(self.net_input(X) >= 0.0, 1, -1)    # restituisce un vettore dove il valore della cella i-esima è 1\n",
    "                                                            # se la cella del vettore X è >= 0 altrimenti è 0\n",
    "    "
   ]
  },
  {
   "cell_type": "markdown",
   "metadata": {},
   "source": [
    "# Addestrare un modello del perceptron sul dataset Iris\n",
    "Utilizzeremo un dataset molto usato per gli esempi che viene usato per la classificazione delle speci di iris da vari dati, per motivi di semplicità noi caricheremo solo due classi: *Iris versicolor* e *Iris setosa* e prenderemo in considerazione solo due dati: *lunghezza sepalo* e *lunghezza petalo*.\n",
    "Non solo **classificheremo i diversi elementi** ma **mostreremo**, con l'aiuto di grafici **l'andamento degli errori** rispetto alle epoch e creeremo una **grafico** delle **regioni decisionali**(un grafico dove vedremo la separazione tra le due classi) <br>*(pag 24:27)*\n"
   ]
  },
  {
   "cell_type": "code",
   "execution_count": 26,
   "metadata": {},
   "outputs": [
    {
     "data": {
      "text/html": [
       "<div>\n",
       "<style scoped>\n",
       "    .dataframe tbody tr th:only-of-type {\n",
       "        vertical-align: middle;\n",
       "    }\n",
       "\n",
       "    .dataframe tbody tr th {\n",
       "        vertical-align: top;\n",
       "    }\n",
       "\n",
       "    .dataframe thead th {\n",
       "        text-align: right;\n",
       "    }\n",
       "</style>\n",
       "<table border=\"1\" class=\"dataframe\">\n",
       "  <thead>\n",
       "    <tr style=\"text-align: right;\">\n",
       "      <th></th>\n",
       "      <th>0</th>\n",
       "      <th>1</th>\n",
       "      <th>2</th>\n",
       "      <th>3</th>\n",
       "      <th>4</th>\n",
       "    </tr>\n",
       "  </thead>\n",
       "  <tbody>\n",
       "    <tr>\n",
       "      <th>145</th>\n",
       "      <td>6.7</td>\n",
       "      <td>3.0</td>\n",
       "      <td>5.2</td>\n",
       "      <td>2.3</td>\n",
       "      <td>Iris-virginica</td>\n",
       "    </tr>\n",
       "    <tr>\n",
       "      <th>146</th>\n",
       "      <td>6.3</td>\n",
       "      <td>2.5</td>\n",
       "      <td>5.0</td>\n",
       "      <td>1.9</td>\n",
       "      <td>Iris-virginica</td>\n",
       "    </tr>\n",
       "    <tr>\n",
       "      <th>147</th>\n",
       "      <td>6.5</td>\n",
       "      <td>3.0</td>\n",
       "      <td>5.2</td>\n",
       "      <td>2.0</td>\n",
       "      <td>Iris-virginica</td>\n",
       "    </tr>\n",
       "    <tr>\n",
       "      <th>148</th>\n",
       "      <td>6.2</td>\n",
       "      <td>3.4</td>\n",
       "      <td>5.4</td>\n",
       "      <td>2.3</td>\n",
       "      <td>Iris-virginica</td>\n",
       "    </tr>\n",
       "    <tr>\n",
       "      <th>149</th>\n",
       "      <td>5.9</td>\n",
       "      <td>3.0</td>\n",
       "      <td>5.1</td>\n",
       "      <td>1.8</td>\n",
       "      <td>Iris-virginica</td>\n",
       "    </tr>\n",
       "  </tbody>\n",
       "</table>\n",
       "</div>"
      ],
      "text/plain": [
       "       0    1    2    3               4\n",
       "145  6.7  3.0  5.2  2.3  Iris-virginica\n",
       "146  6.3  2.5  5.0  1.9  Iris-virginica\n",
       "147  6.5  3.0  5.2  2.0  Iris-virginica\n",
       "148  6.2  3.4  5.4  2.3  Iris-virginica\n",
       "149  5.9  3.0  5.1  1.8  Iris-virginica"
      ]
     },
     "execution_count": 26,
     "metadata": {},
     "output_type": "execute_result"
    }
   ],
   "source": [
    "import pandas as pd\n",
    "# assegno a df il dataset scaricato all'indirizzo\n",
    "df = pd.read_csv('http://archive.ics.uci.edu/ml/machine-learning-databases/iris/iris.data', header = None)\n",
    "df.tail() # ritorna le ultime 5 righe, quando viene invocato in jupyter le visualizza anche                                                  "
   ]
  },
  {
   "cell_type": "code",
   "execution_count": 27,
   "metadata": {},
   "outputs": [
    {
     "data": {
      "image/png": "[encoded data removed]",
      "text/plain": [
       "<Figure size 432x288 with 1 Axes>"
      ]
     },
     "metadata": {
      "needs_background": "light"
     },
     "output_type": "display_data"
    }
   ],
   "source": [
    "import matplotlib.pyplot as plt\n",
    "y = df.iloc[0:100, 4].values # prendiamo i valori da 0 a 100 della colonna di indice 4 e li mettiamo in y\n",
    "y = np.where(y == 'Iris-setosa', -1, 1) # assegniamo all'iris setosa il valore -1 e alla versicolor il valore 1\n",
    "X = df.iloc[0:100, [0, 2]].values # prendiamo i primi 100 valori delle colonne 2 e 4 dove ci sono il sepal e il petal lenght \n",
    "\n",
    "# usiamo la libreria plt per tracciare un grafico per visualizzare le due classi la prima quadra è l'array che viene\n",
    "# messo sull'asse x, la seconda viene messo sull'asse y\n",
    "plt.scatter(X[:50, 0], X[:50, 1], color='red', marker='o', label='setosa') \n",
    "plt.scatter(X[50:100, 0], X[50:100, 1], color='blue', marker='x', label='versicolor')\n",
    "plt.xlabel('sepal lenght [cm]') # comando per scrivere sotto l'asse x di che dato stiamo parlando \n",
    "plt.ylabel('petal lenght [cm]')\n",
    "plt.legend(loc='upper left') # per mostrare la legenda\n",
    "plt.show()"
   ]
  },
  {
   "cell_type": "code",
   "execution_count": 28,
   "metadata": {},
   "outputs": [
    {
     "data": {
      "image/png": "[encoded data removed]",
      "text/plain": [
       "<Figure size 432x288 with 1 Axes>"
      ]
     },
     "metadata": {
      "needs_background": "light"
     },
     "output_type": "display_data"
    }
   ],
   "source": [
    "ppn = Perceptron(eta=0.1, n_iter=10)\n",
    "ppn.fit(X, y)\n",
    "plt.plot(range(1, len(ppn.errors_) + 1), ppn.errors_, marker='o') # plotting degli errori contenuti nell'array ppn.errors_ sempre di lunghezza = n_epoch\n",
    "plt.xlabel('Epochs')\n",
    "plt.ylabel('Number of missclassification')\n",
    "plt.show()"
   ]
  },
  {
   "cell_type": "code",
   "execution_count": 48,
   "metadata": {},
   "outputs": [],
   "source": [
    "from matplotlib.colors import ListedColormap\n",
    "\n",
    "def plot_decision_regions(X, y, classifier, resolution=0.02): # funzione per il grafico decisionale\n",
    "    markers = ('s', 'x', 'o', '^', 'v') # i vari caratteri dientificatori della libreria\n",
    "    colors = ('red', 'blue', 'lightgreen', 'gray', 'cyan') # e i vari colori\n",
    "    cmap = ListedColormap(colors[:len(np.unique(y))]) # creiamo una mappa dei colori dalla lista dei colori\n",
    "    \n",
    "    x1_min, x1_max = X[:, 0].min() - 1, X[:, 0].max() + 1 # estrae il minimo e il max del sepal lenght \n",
    "    x2_min, x2_max = X[:, 1].min() - 1, X[:, 1].max() + 1 # e petal lenght\n",
    "    \n",
    "    # crea il grafico bianco su cui disegneremo il grafico decisionale, dicendogli che i due assi sono due intervalli\n",
    "    # da x1_min a x1_max andando di resolution in resolution (di 0.02 in 0.02) e x2_min ecc per il secondo\n",
    "    xx1, xx2 = np.meshgrid(np.arange(x1_min, x1_max, resolution), np.arange(x2_min, x2_max, resolution)) \n",
    "    \n",
    "    Z = classifier.predict(np.array([xx1.ravel(), xx2.ravel()]).T) # predizione dei dati e riemimento di z\n",
    "    Z = Z.reshape(xx1.shape)\n",
    "    \n",
    "    plt.contourf(xx1, xx2, Z, alpha=0.4, cmap=cmap) # la magia che colora la mappa\n",
    "    \n",
    "    plt.xlim(xx1.min(), xx1.max()) #\n",
    "    plt.ylim(xx2.min(), xx2.max()) \n",
    "    \n",
    "    for idx, cl in enumerate(np.unique(y)): # ciclo che mette un 'segnalino' per ogni elemento\n",
    "        plt.scatter(x=X[y==cl, 0], y=X[y==cl, 1], alpha=0.8, c=cmap(idx), marker =markers[idx], label=cl)"
   ]
  },
  {
   "cell_type": "code",
   "execution_count": 49,
   "metadata": {
    "scrolled": true
   },
   "outputs": [
    {
     "name": "stderr",
     "output_type": "stream",
     "text": [
      "No handles with labels found to put in legend.\n"
     ]
    },
    {
     "data": {
      "image/png": "[encoded data removed]",
      "text/plain": [
       "<Figure size 432x288 with 1 Axes>"
      ]
     },
     "metadata": {
      "needs_background": "light"
     },
     "output_type": "display_data"
    }
   ],
   "source": [
    "plot_decision_regions(X, y, classifier=ppn)\n",
    "plt.xlabel('sepal lenght [cm]') \n",
    "plt.ylabel('petal lenght [cm]')\n",
    "plt.legend(loc='upper left')\n",
    "plt.show()"
   ]
  },
  {
   "cell_type": "code",
   "execution_count": null,
   "metadata": {},
   "outputs": [],
   "source": []
  }
 ],
 "metadata": {
  "kernelspec": {
   "display_name": "Python 3",
   "language": "python",
   "name": "python3"
  },
  "language_info": {
   "codemirror_mode": {
    "name": "ipython",
    "version": 3
   },
   "file_extension": ".py",
   "mimetype": "text/x-python",
   "name": "python",
   "nbconvert_exporter": "python",
   "pygments_lexer": "ipython3",
   "version": "3.8.0"
  }
 },
 "nbformat": 4,
 "nbformat_minor": 4
}
